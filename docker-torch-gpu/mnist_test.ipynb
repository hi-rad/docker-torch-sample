{
 "cells": [
  {
   "cell_type": "code",
   "execution_count": 1,
   "id": "573d0a02",
   "metadata": {},
   "outputs": [],
   "source": [
    "import os\n",
    "import torch\n",
    "import torch.optim as optim\n",
    "from torchvision import datasets, transforms\n",
    "from torch.optim.lr_scheduler import StepLR\n",
    "from model import Net, train, test"
   ]
  },
  {
   "cell_type": "code",
   "execution_count": 2,
   "id": "6cc3ffec-6980-43d7-86ac-8a919596aa8e",
   "metadata": {},
   "outputs": [],
   "source": [
    "cwd = os.getcwd()\n",
    "path = os.path\n",
    "pjoin = path.join\n",
    "\n",
    "use_cuda = torch.cuda.is_available()\n",
    "use_mps = torch.backends.mps.is_available()"
   ]
  },
  {
   "cell_type": "code",
   "execution_count": 3,
   "id": "8d2aa766-3000-4576-8f00-e48d6498468a",
   "metadata": {},
   "outputs": [
    {
     "name": "stdout",
     "output_type": "stream",
     "text": [
      "The current working directory is: /code\n",
      "Cuda available: True\n",
      "macOS GPU training: False\n"
     ]
    }
   ],
   "source": [
    "print(f\"The current working directory is: {cwd}\")\n",
    "\n",
    "print(f\"Cuda available: {use_cuda}\")\n",
    "print(f\"macOS GPU training: {use_mps}\")"
   ]
  },
  {
   "cell_type": "code",
   "execution_count": 4,
   "id": "f29d72b1-fd3e-4435-95de-ecdc012904c2",
   "metadata": {},
   "outputs": [],
   "source": [
    "if use_cuda:\n",
    "    device = torch.device(\"cuda\")\n",
    "elif use_mps:\n",
    "    device = torch.device(\"mps\")\n",
    "else:\n",
    "    device = torch.device(\"cpu\")"
   ]
  },
  {
   "cell_type": "code",
   "execution_count": 5,
   "id": "3457641b-e45d-4d24-b25a-9dcc880ad560",
   "metadata": {},
   "outputs": [
    {
     "name": "stdout",
     "output_type": "stream",
     "text": [
      "Device is: cuda\n"
     ]
    }
   ],
   "source": [
    "print(f\"Device is: {device}\")"
   ]
  },
  {
   "cell_type": "code",
   "execution_count": 6,
   "id": "43b02104-c59e-40db-b61f-b1d0ea0980be",
   "metadata": {},
   "outputs": [
    {
     "name": "stdout",
     "output_type": "stream",
     "text": [
      "Train Epoch: 1 [0/60000 (0%)]\tLoss: 2.297709\n",
      "Train Epoch: 1 [25600/60000 (43%)]\tLoss: 0.134742\n",
      "Train Epoch: 1 [51200/60000 (85%)]\tLoss: 0.090226\n",
      "\n",
      "Test set: Average loss: 0.0471, Accuracy: 9835/10000 (98%)\n",
      "\n",
      "Train Epoch: 2 [0/60000 (0%)]\tLoss: 0.054458\n",
      "Train Epoch: 2 [25600/60000 (43%)]\tLoss: 0.129075\n",
      "Train Epoch: 2 [51200/60000 (85%)]\tLoss: 0.051133\n",
      "\n",
      "Test set: Average loss: 0.0361, Accuracy: 9877/10000 (99%)\n",
      "\n",
      "Train Epoch: 3 [0/60000 (0%)]\tLoss: 0.090962\n",
      "Train Epoch: 3 [25600/60000 (43%)]\tLoss: 0.014281\n",
      "Train Epoch: 3 [51200/60000 (85%)]\tLoss: 0.045101\n",
      "\n",
      "Test set: Average loss: 0.0306, Accuracy: 9899/10000 (99%)\n",
      "\n",
      "Train Epoch: 4 [0/60000 (0%)]\tLoss: 0.026091\n",
      "Train Epoch: 4 [25600/60000 (43%)]\tLoss: 0.059678\n",
      "Train Epoch: 4 [51200/60000 (85%)]\tLoss: 0.020181\n",
      "\n",
      "Test set: Average loss: 0.0269, Accuracy: 9907/10000 (99%)\n",
      "\n",
      "Train Epoch: 5 [0/60000 (0%)]\tLoss: 0.021370\n",
      "Train Epoch: 5 [25600/60000 (43%)]\tLoss: 0.038900\n",
      "Train Epoch: 5 [51200/60000 (85%)]\tLoss: 0.047827\n",
      "\n",
      "Test set: Average loss: 0.0245, Accuracy: 9909/10000 (99%)\n",
      "\n",
      "Train Epoch: 6 [0/60000 (0%)]\tLoss: 0.035800\n",
      "Train Epoch: 6 [25600/60000 (43%)]\tLoss: 0.015191\n",
      "Train Epoch: 6 [51200/60000 (85%)]\tLoss: 0.036042\n",
      "\n",
      "Test set: Average loss: 0.0249, Accuracy: 9916/10000 (99%)\n",
      "\n"
     ]
    }
   ],
   "source": [
    "batch_size = 128\n",
    "epochs = 6\n",
    "learning_rate = 1.0\n",
    "gamma = 0.7\n",
    "seed = 1\n",
    "log_interval = 200\n",
    "save_model=False\n",
    "\n",
    "torch.manual_seed(seed)\n",
    "\n",
    "train_kwargs = {'batch_size': batch_size}\n",
    "test_kwargs = {'batch_size': batch_size}\n",
    "if use_cuda:\n",
    "    cuda_kwargs = {'num_workers': 1,\n",
    "                   'pin_memory': True,\n",
    "                   'shuffle': True}\n",
    "    train_kwargs.update(cuda_kwargs)\n",
    "    test_kwargs.update(cuda_kwargs)\n",
    "\n",
    "transform=transforms.Compose([\n",
    "    transforms.ToTensor(),\n",
    "    transforms.Normalize((0.1307,), (0.3081,))\n",
    "    ])\n",
    "dataset1 = datasets.MNIST('./data', train=True, download=True,\n",
    "                   transform=transform)\n",
    "dataset2 = datasets.MNIST('./data', train=False,\n",
    "                   transform=transform)\n",
    "train_loader = torch.utils.data.DataLoader(dataset1,**train_kwargs)\n",
    "test_loader = torch.utils.data.DataLoader(dataset2, **test_kwargs)\n",
    "\n",
    "model = Net().to(device)\n",
    "optimizer = optim.Adadelta(model.parameters(), lr=learning_rate)\n",
    "\n",
    "scheduler = StepLR(optimizer, step_size=1, gamma=gamma)\n",
    "for epoch in range(1, epochs + 1):\n",
    "    train(log_interval, model, device, train_loader, optimizer, epoch)\n",
    "    test(model, device, test_loader)\n",
    "    scheduler.step()\n",
    "\n",
    "if save_model:\n",
    "    torch.save(model.state_dict(), \"mnist_cnn.pt\")"
   ]
  }
 ],
 "metadata": {
  "kernelspec": {
   "display_name": "Python 3 (ipykernel)",
   "language": "python",
   "name": "python3"
  },
  "language_info": {
   "codemirror_mode": {
    "name": "ipython",
    "version": 3
   },
   "file_extension": ".py",
   "mimetype": "text/x-python",
   "name": "python",
   "nbconvert_exporter": "python",
   "pygments_lexer": "ipython3",
   "version": "3.8.10"
  }
 },
 "nbformat": 4,
 "nbformat_minor": 5
}
